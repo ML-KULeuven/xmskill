{
 "cells": [
  {
   "cell_type": "code",
   "execution_count": 1,
   "id": "75e75f36-fc3e-4fd3-8ed9-38a8c7b5deb3",
   "metadata": {
    "editable": true,
    "slideshow": {
     "slide_type": ""
    },
    "tags": []
   },
   "outputs": [
    {
     "name": "stdout",
     "output_type": "stream",
     "text": [
      "env: SOCCERDATA_LOGLEVEL=ERROR\n",
      "env: SOCCERDATA_DIR=/cw/dtaijupiter/NoCsBack/dtai/pieterr/Projects/soccerdata\n"
     ]
    }
   ],
   "source": [
    "%env SOCCERDATA_LOGLEVEL=ERROR\n",
    "#%env SOCCERDATA_NOCACHE=True\n",
    "#%env SOCCERDATA_NOSTORE=True\n",
    "%env SOCCERDATA_DIR=/cw/dtaijupiter/NoCsBack/dtai/pieterr/Projects/soccerdata"
   ]
  },
  {
   "cell_type": "markdown",
   "id": "d5999aee-3a12-4eed-8c25-6e5f53bcf904",
   "metadata": {
    "editable": true,
    "slideshow": {
     "slide_type": ""
    },
    "tags": []
   },
   "source": [
    "# Exploratory data analysis on FBref shots\n",
    "\n",
    "This notebook performs an exploratory data analysis on shots and xG values scraped from FBref to support the following two hypotheses in the paper:\n",
    "1. Limited sample sizes, high variances and small variations in skill between players make GAX a poor metric for measuring finishing skill.\n",
    "2. Including all shots when computing GAX is incorrect and obscures finishing ability.\n",
    "\n",
    "**requirements**\n",
    "\n",
    "To download the FBref data, you need the latest version of the [`soccerdata` package](https://soccerdata.readthedocs.io/en/latest/)."
   ]
  },
  {
   "cell_type": "code",
   "execution_count": 2,
   "id": "f653430f-bc10-4bba-a49b-bab555f2fa42",
   "metadata": {
    "editable": true,
    "slideshow": {
     "slide_type": ""
    },
    "tags": []
   },
   "outputs": [],
   "source": [
    "from pathlib import Path\n",
    "\n",
    "import numpy as np\n",
    "import pandas as pd\n",
    "pd.set_option('display.max_columns', None)\n",
    "\n",
    "import matplotlib\n",
    "import matplotlib.pyplot as plt\n",
    "matplotlib.rcParams['pdf.fonttype'] = 42\n",
    "matplotlib.rcParams['ps.fonttype'] = 42\n",
    "import seaborn as sns"
   ]
  },
  {
   "cell_type": "markdown",
   "id": "12fcef8d-630f-48b0-878d-c1c040f50acf",
   "metadata": {
    "tags": []
   },
   "source": [
    "Configure data and output folders."
   ]
  },
  {
   "cell_type": "code",
   "execution_count": 3,
   "id": "212f658d-2379-42bc-8129-68daa48f3431",
   "metadata": {
    "tags": []
   },
   "outputs": [],
   "source": [
    "DATA_DIR = Path(\"data\")\n",
    "DATA_DIR.mkdir(parents=True, exist_ok=True)\n",
    "OUTPUT_DIR = Path(\"results/eda\")\n",
    "OUTPUT_DIR.mkdir(parents=True, exist_ok=True)"
   ]
  },
  {
   "cell_type": "markdown",
   "id": "ec16e269-15cc-457f-a710-9c8fd66b278a",
   "metadata": {},
   "source": [
    "## Load dataset\n",
    "\n",
    "First, we'll create a dataset containing all shots from five seasons in the Big Five European leagues."
   ]
  },
  {
   "cell_type": "code",
   "execution_count": 4,
   "id": "ae850ad1-5dac-433a-9dac-45bf826d7509",
   "metadata": {
    "tags": []
   },
   "outputs": [],
   "source": [
    "# Select seasons and leagues to include in the analysis\n",
    "leagues = [\"ENG-Premier League\", \"ESP-La Liga\", \"FRA-Ligue 1\", \"GER-Bundesliga\", \"ITA-Serie A\"]\n",
    "seasons = [\"2017-2018\", \"2018-2019\", \"2019-2020\", \"2020-2021\", \"2021-2022\"]"
   ]
  },
  {
   "cell_type": "code",
   "execution_count": 5,
   "id": "9476b626-53c9-49bd-bf59-ed25145b0dbd",
   "metadata": {},
   "outputs": [],
   "source": [
    "# Load data from CSV file or scrape the data\n",
    "fp_fbref_shots = DATA_DIR / \"fbref_shots.csv\"\n",
    "if fp_fbref_shots.exists():\n",
    "    df_shots_fbref = pd.read_csv(fp_fbref_shots)\n",
    "    df_shots_fbref = df_shots_fbref.loc[~df_shots_fbref.league.isna()]\n",
    "else:\n",
    "    import soccerdata as sd\n",
    "    \n",
    "    fbref = sd.FBref(leagues, seasons)\n",
    "    df_shots_fbref = fbref.read_shot_events()\n",
    "    df_shots_fbref.reset_index().to_csv(fp_fbref_shots, index=False)"
   ]
  },
  {
   "cell_type": "code",
   "execution_count": 6,
   "id": "ebd57dad-5ac8-4fc3-8b81-0e4cec67c6cd",
   "metadata": {},
   "outputs": [
    {
     "name": "stderr",
     "output_type": "stream",
     "text": [
      "/tmp/ipykernel_211330/843158894.py:4: UserWarning: This pattern is interpreted as a regular expression, and has match groups. To actually get the groups, use str.extract.\n",
      "  | df_shots_fbref['player'].str.contains(\"(pen)\"))\n"
     ]
    },
    {
     "data": {
      "text/html": [
       "<div>\n",
       "<style scoped>\n",
       "    .dataframe tbody tr th:only-of-type {\n",
       "        vertical-align: middle;\n",
       "    }\n",
       "\n",
       "    .dataframe tbody tr th {\n",
       "        vertical-align: top;\n",
       "    }\n",
       "\n",
       "    .dataframe thead th {\n",
       "        text-align: right;\n",
       "    }\n",
       "</style>\n",
       "<table border=\"1\" class=\"dataframe\">\n",
       "  <thead>\n",
       "    <tr style=\"text-align: right;\">\n",
       "      <th></th>\n",
       "      <th></th>\n",
       "      <th></th>\n",
       "      <th></th>\n",
       "      <th></th>\n",
       "      <th>minute</th>\n",
       "      <th>xG</th>\n",
       "      <th>PSxG</th>\n",
       "      <th>outcome</th>\n",
       "      <th>distance</th>\n",
       "      <th>body_part</th>\n",
       "      <th>notes</th>\n",
       "      <th>SCA 1</th>\n",
       "      <th>SCA 1.1</th>\n",
       "      <th>SCA 2</th>\n",
       "      <th>SCA 2.1</th>\n",
       "      <th>set_piece</th>\n",
       "      <th>body_part_alt</th>\n",
       "      <th>long_distance</th>\n",
       "      <th>goal</th>\n",
       "      <th>GAX</th>\n",
       "    </tr>\n",
       "    <tr>\n",
       "      <th>league</th>\n",
       "      <th>season</th>\n",
       "      <th>game</th>\n",
       "      <th>team</th>\n",
       "      <th>player</th>\n",
       "      <th></th>\n",
       "      <th></th>\n",
       "      <th></th>\n",
       "      <th></th>\n",
       "      <th></th>\n",
       "      <th></th>\n",
       "      <th></th>\n",
       "      <th></th>\n",
       "      <th></th>\n",
       "      <th></th>\n",
       "      <th></th>\n",
       "      <th></th>\n",
       "      <th></th>\n",
       "      <th></th>\n",
       "      <th></th>\n",
       "      <th></th>\n",
       "    </tr>\n",
       "  </thead>\n",
       "  <tbody>\n",
       "    <tr>\n",
       "      <th rowspan=\"5\" valign=\"top\">ENG-Premier League</th>\n",
       "      <th rowspan=\"5\" valign=\"top\">1718</th>\n",
       "      <th rowspan=\"5\" valign=\"top\">2017-08-11 Arsenal-Leicester City</th>\n",
       "      <th rowspan=\"5\" valign=\"top\">Arsenal</th>\n",
       "      <th>Aaron Ramsey</th>\n",
       "      <td>68</td>\n",
       "      <td>0.29</td>\n",
       "      <td>NaN</td>\n",
       "      <td>Off Target</td>\n",
       "      <td>9.0</td>\n",
       "      <td>Head</td>\n",
       "      <td>NaN</td>\n",
       "      <td>Alexandre Lacazette</td>\n",
       "      <td>Pass (Live)</td>\n",
       "      <td>Mesut Özil</td>\n",
       "      <td>Pass (Live)</td>\n",
       "      <td>False</td>\n",
       "      <td>Head</td>\n",
       "      <td>False</td>\n",
       "      <td>False</td>\n",
       "      <td>-0.29</td>\n",
       "    </tr>\n",
       "    <tr>\n",
       "      <th>Aaron Ramsey</th>\n",
       "      <td>81</td>\n",
       "      <td>0.03</td>\n",
       "      <td>NaN</td>\n",
       "      <td>Off Target</td>\n",
       "      <td>9.0</td>\n",
       "      <td>Head</td>\n",
       "      <td>NaN</td>\n",
       "      <td>Granit Xhaka</td>\n",
       "      <td>Pass (Dead)</td>\n",
       "      <td>Granit Xhaka</td>\n",
       "      <td>Shot</td>\n",
       "      <td>False</td>\n",
       "      <td>Head</td>\n",
       "      <td>False</td>\n",
       "      <td>False</td>\n",
       "      <td>-0.03</td>\n",
       "    </tr>\n",
       "    <tr>\n",
       "      <th>Aaron Ramsey</th>\n",
       "      <td>83</td>\n",
       "      <td>0.07</td>\n",
       "      <td>0.25</td>\n",
       "      <td>Goal</td>\n",
       "      <td>8.0</td>\n",
       "      <td>Right Foot</td>\n",
       "      <td>NaN</td>\n",
       "      <td>Granit Xhaka</td>\n",
       "      <td>Pass (Live)</td>\n",
       "      <td>Sead Kolašinac</td>\n",
       "      <td>Pass (Live)</td>\n",
       "      <td>False</td>\n",
       "      <td>Foot</td>\n",
       "      <td>False</td>\n",
       "      <td>True</td>\n",
       "      <td>0.93</td>\n",
       "    </tr>\n",
       "    <tr>\n",
       "      <th>Aaron Ramsey</th>\n",
       "      <td>90+5</td>\n",
       "      <td>0.03</td>\n",
       "      <td>NaN</td>\n",
       "      <td>Off Target</td>\n",
       "      <td>29.0</td>\n",
       "      <td>Right Foot</td>\n",
       "      <td>NaN</td>\n",
       "      <td>Granit Xhaka</td>\n",
       "      <td>Pass (Live)</td>\n",
       "      <td>NaN</td>\n",
       "      <td>NaN</td>\n",
       "      <td>False</td>\n",
       "      <td>Foot</td>\n",
       "      <td>True</td>\n",
       "      <td>False</td>\n",
       "      <td>-0.03</td>\n",
       "    </tr>\n",
       "    <tr>\n",
       "      <th>Alex Oxlade-Chamberlain</th>\n",
       "      <td>8</td>\n",
       "      <td>0.04</td>\n",
       "      <td>NaN</td>\n",
       "      <td>Off Target</td>\n",
       "      <td>24.0</td>\n",
       "      <td>Left Foot</td>\n",
       "      <td>NaN</td>\n",
       "      <td>Alex Oxlade-Chamberlain</td>\n",
       "      <td>Take-On</td>\n",
       "      <td>Mesut Özil</td>\n",
       "      <td>Pass (Live)</td>\n",
       "      <td>False</td>\n",
       "      <td>Foot</td>\n",
       "      <td>False</td>\n",
       "      <td>False</td>\n",
       "      <td>-0.04</td>\n",
       "    </tr>\n",
       "  </tbody>\n",
       "</table>\n",
       "</div>"
      ],
      "text/plain": [
       "                                                                                            minute  \\\n",
       "league             season game                              team    player                           \n",
       "ENG-Premier League 1718   2017-08-11 Arsenal-Leicester City Arsenal Aaron Ramsey                68   \n",
       "                                                                    Aaron Ramsey                81   \n",
       "                                                                    Aaron Ramsey                83   \n",
       "                                                                    Aaron Ramsey              90+5   \n",
       "                                                                    Alex Oxlade-Chamberlain      8   \n",
       "\n",
       "                                                                                               xG  \\\n",
       "league             season game                              team    player                          \n",
       "ENG-Premier League 1718   2017-08-11 Arsenal-Leicester City Arsenal Aaron Ramsey             0.29   \n",
       "                                                                    Aaron Ramsey             0.03   \n",
       "                                                                    Aaron Ramsey             0.07   \n",
       "                                                                    Aaron Ramsey             0.03   \n",
       "                                                                    Alex Oxlade-Chamberlain  0.04   \n",
       "\n",
       "                                                                                             PSxG  \\\n",
       "league             season game                              team    player                          \n",
       "ENG-Premier League 1718   2017-08-11 Arsenal-Leicester City Arsenal Aaron Ramsey              NaN   \n",
       "                                                                    Aaron Ramsey              NaN   \n",
       "                                                                    Aaron Ramsey             0.25   \n",
       "                                                                    Aaron Ramsey              NaN   \n",
       "                                                                    Alex Oxlade-Chamberlain   NaN   \n",
       "\n",
       "                                                                                                outcome  \\\n",
       "league             season game                              team    player                                \n",
       "ENG-Premier League 1718   2017-08-11 Arsenal-Leicester City Arsenal Aaron Ramsey             Off Target   \n",
       "                                                                    Aaron Ramsey             Off Target   \n",
       "                                                                    Aaron Ramsey                   Goal   \n",
       "                                                                    Aaron Ramsey             Off Target   \n",
       "                                                                    Alex Oxlade-Chamberlain  Off Target   \n",
       "\n",
       "                                                                                             distance  \\\n",
       "league             season game                              team    player                              \n",
       "ENG-Premier League 1718   2017-08-11 Arsenal-Leicester City Arsenal Aaron Ramsey                  9.0   \n",
       "                                                                    Aaron Ramsey                  9.0   \n",
       "                                                                    Aaron Ramsey                  8.0   \n",
       "                                                                    Aaron Ramsey                 29.0   \n",
       "                                                                    Alex Oxlade-Chamberlain      24.0   \n",
       "\n",
       "                                                                                              body_part  \\\n",
       "league             season game                              team    player                                \n",
       "ENG-Premier League 1718   2017-08-11 Arsenal-Leicester City Arsenal Aaron Ramsey                   Head   \n",
       "                                                                    Aaron Ramsey                   Head   \n",
       "                                                                    Aaron Ramsey             Right Foot   \n",
       "                                                                    Aaron Ramsey             Right Foot   \n",
       "                                                                    Alex Oxlade-Chamberlain   Left Foot   \n",
       "\n",
       "                                                                                            notes  \\\n",
       "league             season game                              team    player                          \n",
       "ENG-Premier League 1718   2017-08-11 Arsenal-Leicester City Arsenal Aaron Ramsey              NaN   \n",
       "                                                                    Aaron Ramsey              NaN   \n",
       "                                                                    Aaron Ramsey              NaN   \n",
       "                                                                    Aaron Ramsey              NaN   \n",
       "                                                                    Alex Oxlade-Chamberlain   NaN   \n",
       "\n",
       "                                                                                                               SCA 1  \\\n",
       "league             season game                              team    player                                             \n",
       "ENG-Premier League 1718   2017-08-11 Arsenal-Leicester City Arsenal Aaron Ramsey                 Alexandre Lacazette   \n",
       "                                                                    Aaron Ramsey                        Granit Xhaka   \n",
       "                                                                    Aaron Ramsey                        Granit Xhaka   \n",
       "                                                                    Aaron Ramsey                        Granit Xhaka   \n",
       "                                                                    Alex Oxlade-Chamberlain  Alex Oxlade-Chamberlain   \n",
       "\n",
       "                                                                                                 SCA 1.1  \\\n",
       "league             season game                              team    player                                 \n",
       "ENG-Premier League 1718   2017-08-11 Arsenal-Leicester City Arsenal Aaron Ramsey             Pass (Live)   \n",
       "                                                                    Aaron Ramsey             Pass (Dead)   \n",
       "                                                                    Aaron Ramsey             Pass (Live)   \n",
       "                                                                    Aaron Ramsey             Pass (Live)   \n",
       "                                                                    Alex Oxlade-Chamberlain      Take-On   \n",
       "\n",
       "                                                                                                      SCA 2  \\\n",
       "league             season game                              team    player                                    \n",
       "ENG-Premier League 1718   2017-08-11 Arsenal-Leicester City Arsenal Aaron Ramsey                 Mesut Özil   \n",
       "                                                                    Aaron Ramsey               Granit Xhaka   \n",
       "                                                                    Aaron Ramsey             Sead Kolašinac   \n",
       "                                                                    Aaron Ramsey                        NaN   \n",
       "                                                                    Alex Oxlade-Chamberlain      Mesut Özil   \n",
       "\n",
       "                                                                                                 SCA 2.1  \\\n",
       "league             season game                              team    player                                 \n",
       "ENG-Premier League 1718   2017-08-11 Arsenal-Leicester City Arsenal Aaron Ramsey             Pass (Live)   \n",
       "                                                                    Aaron Ramsey                    Shot   \n",
       "                                                                    Aaron Ramsey             Pass (Live)   \n",
       "                                                                    Aaron Ramsey                     NaN   \n",
       "                                                                    Alex Oxlade-Chamberlain  Pass (Live)   \n",
       "\n",
       "                                                                                             set_piece  \\\n",
       "league             season game                              team    player                               \n",
       "ENG-Premier League 1718   2017-08-11 Arsenal-Leicester City Arsenal Aaron Ramsey                 False   \n",
       "                                                                    Aaron Ramsey                 False   \n",
       "                                                                    Aaron Ramsey                 False   \n",
       "                                                                    Aaron Ramsey                 False   \n",
       "                                                                    Alex Oxlade-Chamberlain      False   \n",
       "\n",
       "                                                                                            body_part_alt  \\\n",
       "league             season game                              team    player                                  \n",
       "ENG-Premier League 1718   2017-08-11 Arsenal-Leicester City Arsenal Aaron Ramsey                     Head   \n",
       "                                                                    Aaron Ramsey                     Head   \n",
       "                                                                    Aaron Ramsey                     Foot   \n",
       "                                                                    Aaron Ramsey                     Foot   \n",
       "                                                                    Alex Oxlade-Chamberlain          Foot   \n",
       "\n",
       "                                                                                             long_distance  \\\n",
       "league             season game                              team    player                                   \n",
       "ENG-Premier League 1718   2017-08-11 Arsenal-Leicester City Arsenal Aaron Ramsey                     False   \n",
       "                                                                    Aaron Ramsey                     False   \n",
       "                                                                    Aaron Ramsey                     False   \n",
       "                                                                    Aaron Ramsey                      True   \n",
       "                                                                    Alex Oxlade-Chamberlain          False   \n",
       "\n",
       "                                                                                              goal  \\\n",
       "league             season game                              team    player                           \n",
       "ENG-Premier League 1718   2017-08-11 Arsenal-Leicester City Arsenal Aaron Ramsey             False   \n",
       "                                                                    Aaron Ramsey             False   \n",
       "                                                                    Aaron Ramsey              True   \n",
       "                                                                    Aaron Ramsey             False   \n",
       "                                                                    Alex Oxlade-Chamberlain  False   \n",
       "\n",
       "                                                                                              GAX  \n",
       "league             season game                              team    player                         \n",
       "ENG-Premier League 1718   2017-08-11 Arsenal-Leicester City Arsenal Aaron Ramsey            -0.29  \n",
       "                                                                    Aaron Ramsey            -0.03  \n",
       "                                                                    Aaron Ramsey             0.93  \n",
       "                                                                    Aaron Ramsey            -0.03  \n",
       "                                                                    Alex Oxlade-Chamberlain -0.04  "
      ]
     },
     "execution_count": 6,
     "metadata": {},
     "output_type": "execute_result"
    }
   ],
   "source": [
    "# add a \"set_piece\" column\n",
    "df_shots_fbref[\"set_piece\"] = (\n",
    "    df_shots_fbref['notes'].astype(str).apply(lambda x: 'Free kick' in x)\n",
    "    | df_shots_fbref['player'].str.contains(\"(pen)\"))\n",
    "df_shots_fbref.replace(regex={\"player\": \"(pen)\"}, value=\"\", inplace=True)\n",
    "\n",
    "# add a bodypart \"foot\" = \"left foot\" or \"right foot\"\n",
    "df_shots_fbref[\"body_part_alt\"] = df_shots_fbref[\"body_part\"].copy()\n",
    "df_shots_fbref.loc[df_shots_fbref[\"body_part_alt\"] == \"Left Foot\", \"body_part_alt\"] = \"Foot\"\n",
    "df_shots_fbref.loc[df_shots_fbref[\"body_part_alt\"] == \"Right Foot\", \"body_part_alt\"] = \"Foot\"\n",
    "\n",
    "# add a \"long_distance\" column\n",
    "df_shots_fbref[\"long_distance\"] = (df_shots_fbref[\"distance\"] > 25) & (df_shots_fbref[\"distance\"] < 35)\n",
    "\n",
    "# add a \"goal\" column\n",
    "df_shots_fbref['goal'] = df_shots_fbref[\"outcome\"] == \"Goal\"\n",
    "\n",
    "# compute GAX\n",
    "df_shots_fbref['GAX'] = df_shots_fbref[\"goal\"] - df_shots_fbref[\"xG\"]\n",
    "\n",
    "# set index\n",
    "df_shots_fbref[\"season\"] = df_shots_fbref[\"season\"].astype(int).astype(str)\n",
    "df_shots_fbref = df_shots_fbref.set_index([\"league\", \"season\", \"game\", \"team\", \"player\"])\n",
    "\n",
    "# show result\n",
    "df_shots_fbref.head()"
   ]
  },
  {
   "cell_type": "markdown",
   "id": "b4051d2a-5026-46f8-beb6-177b2458a9d6",
   "metadata": {},
   "source": [
    "## H1: Limited sample sizes, high variances and small variations in skill between players"
   ]
  },
  {
   "cell_type": "markdown",
   "id": "c90cabda-3c6a-48f4-b609-55e8cba9e034",
   "metadata": {},
   "source": [
    "### Limited samples sizes"
   ]
  },
  {
   "cell_type": "code",
   "execution_count": 7,
   "id": "d8cddaf3-c993-41c6-b430-13cac1970bfe",
   "metadata": {
    "tags": []
   },
   "outputs": [
    {
     "data": {
      "text/plain": [
       "player\n",
       "Cristiano Ronaldo     808\n",
       "Lionel Messi          792\n",
       "Robert Lewandowski    677\n",
       "Mohamed Salah         658\n",
       "Lorenzo Insigne       627\n",
       "Harry Kane            620\n",
       "Ciro Immobile         570\n",
       "Edin Džeko            561\n",
       "Domenico Berardi      532\n",
       "Kylian Mbappé         532\n",
       "Karim Benzema         520\n",
       "Fabio Quagliarella    467\n",
       "Andy Delort           465\n",
       "Luis Suárez           458\n",
       "Andrea Belotti        456\n",
       "Federico Chiesa       449\n",
       "Timo Werner           443\n",
       "Nabil Fekir           438\n",
       "Duván Zapata          437\n",
       "Hakan Çalhanoğlu      432\n",
       "dtype: int64"
      ]
     },
     "execution_count": 7,
     "metadata": {},
     "output_type": "execute_result"
    }
   ],
   "source": [
    "# players with most shots\n",
    "df_shots_fbref.groupby(\"player\").size().sort_values(ascending=False).head(n=20)"
   ]
  },
  {
   "cell_type": "code",
   "execution_count": 8,
   "id": "73bcc812-17c1-4d97-9ae3-5d8b720d9c68",
   "metadata": {
    "tags": []
   },
   "outputs": [
    {
     "data": {
      "text/plain": [
       "player              season\n",
       "Cristiano Ronaldo   1920      195\n",
       "Lionel Messi        1718      193\n",
       "                    2021      191\n",
       "Harry Kane          1718      181\n",
       "Lorenzo Insigne     1718      176\n",
       "Cristiano Ronaldo   1718      174\n",
       "                    1819      171\n",
       "Lionel Messi        1819      165\n",
       "Cristiano Ronaldo   2021      160\n",
       "Robert Lewandowski  2122      156\n",
       "Lionel Messi        1920      154\n",
       "Edin Džeko          1718      152\n",
       "Kylian Mbappé       2122      143\n",
       "Mohamed Salah       1718      142\n",
       "Robert Lewandowski  1819      140\n",
       "Lorenzo Insigne     2021      136\n",
       "João Pedro          2122      134\n",
       "Mohamed Salah       1819      134\n",
       "Federico Chiesa     1819      133\n",
       "Robert Lewandowski  1920      133\n",
       "dtype: int64"
      ]
     },
     "execution_count": 8,
     "metadata": {},
     "output_type": "execute_result"
    }
   ],
   "source": [
    "# players with most shots in a single seasons\n",
    "shots_per_season = df_shots_fbref.groupby([\"player\", \"season\"]).size()\n",
    "shots_per_season.sort_values(ascending=False).head(n=20)"
   ]
  },
  {
   "cell_type": "code",
   "execution_count": 9,
   "id": "1e976115-74cd-40df-9fbb-1aa7a22443d6",
   "metadata": {
    "tags": []
   },
   "outputs": [
    {
     "data": {
      "text/html": [
       "<div>\n",
       "<style scoped>\n",
       "    .dataframe tbody tr th:only-of-type {\n",
       "        vertical-align: middle;\n",
       "    }\n",
       "\n",
       "    .dataframe tbody tr th {\n",
       "        vertical-align: top;\n",
       "    }\n",
       "\n",
       "    .dataframe thead th {\n",
       "        text-align: right;\n",
       "    }\n",
       "</style>\n",
       "<table border=\"1\" class=\"dataframe\">\n",
       "  <thead>\n",
       "    <tr style=\"text-align: right;\">\n",
       "      <th></th>\n",
       "      <th>GAX</th>\n",
       "      <th>count</th>\n",
       "    </tr>\n",
       "    <tr>\n",
       "      <th>player</th>\n",
       "      <th></th>\n",
       "      <th></th>\n",
       "    </tr>\n",
       "  </thead>\n",
       "  <tbody>\n",
       "    <tr>\n",
       "      <th>Son Heung-min</th>\n",
       "      <td>0.059267</td>\n",
       "      <td>382</td>\n",
       "    </tr>\n",
       "    <tr>\n",
       "      <th>Nils Petersen</th>\n",
       "      <td>0.056569</td>\n",
       "      <td>204</td>\n",
       "    </tr>\n",
       "    <tr>\n",
       "      <th>Riyad Mahrez</th>\n",
       "      <td>0.050511</td>\n",
       "      <td>313</td>\n",
       "    </tr>\n",
       "    <tr>\n",
       "      <th>Luis Muriel</th>\n",
       "      <td>0.049180</td>\n",
       "      <td>317</td>\n",
       "    </tr>\n",
       "    <tr>\n",
       "      <th>Dries Mertens</th>\n",
       "      <td>0.048052</td>\n",
       "      <td>385</td>\n",
       "    </tr>\n",
       "    <tr>\n",
       "      <th>Iago Aspas</th>\n",
       "      <td>0.046547</td>\n",
       "      <td>362</td>\n",
       "    </tr>\n",
       "    <tr>\n",
       "      <th>Martin Terrier</th>\n",
       "      <td>0.045830</td>\n",
       "      <td>235</td>\n",
       "    </tr>\n",
       "    <tr>\n",
       "      <th>Ruslan Malinovskyi</th>\n",
       "      <td>0.045721</td>\n",
       "      <td>201</td>\n",
       "    </tr>\n",
       "    <tr>\n",
       "      <th>James Ward-Prowse</th>\n",
       "      <td>0.045149</td>\n",
       "      <td>202</td>\n",
       "    </tr>\n",
       "    <tr>\n",
       "      <th>Gonçalo Guedes</th>\n",
       "      <td>0.043755</td>\n",
       "      <td>237</td>\n",
       "    </tr>\n",
       "  </tbody>\n",
       "</table>\n",
       "</div>"
      ],
      "text/plain": [
       "                         GAX  count\n",
       "player                             \n",
       "Son Heung-min       0.059267    382\n",
       "Nils Petersen       0.056569    204\n",
       "Riyad Mahrez        0.050511    313\n",
       "Luis Muriel         0.049180    317\n",
       "Dries Mertens       0.048052    385\n",
       "Iago Aspas          0.046547    362\n",
       "Martin Terrier      0.045830    235\n",
       "Ruslan Malinovskyi  0.045721    201\n",
       "James Ward-Prowse   0.045149    202\n",
       "Gonçalo Guedes      0.043755    237"
      ]
     },
     "execution_count": 9,
     "metadata": {},
     "output_type": "execute_result"
    }
   ],
   "source": [
    "# players with highest GAX\n",
    "df_shots_fbref['count'] = 1\n",
    "df = df_shots_fbref.groupby(\"player\").agg({'GAX': 'mean', 'count':'sum'})\n",
    "df[df['count'] > 200].sort_values(ascending=False, by=\"GAX\").head(n=10)#.index.values"
   ]
  },
  {
   "cell_type": "code",
   "execution_count": 10,
   "id": "bb2b5b6b-3aec-4516-897c-39f11cf07a24",
   "metadata": {},
   "outputs": [
    {
     "name": "stdout",
     "output_type": "stream",
     "text": [
      "Only 8.63% of players take more than 50 shots in a season.\n"
     ]
    }
   ],
   "source": [
    "more_than_50shots = ((shots_per_season > 50).groupby(\"season\").sum() / shots_per_season.groupby(\"season\").size()).mean()\n",
    "print(f\"Only {more_than_50shots:.2%} of players take more than 50 shots in a season.\")"
   ]
  },
  {
   "cell_type": "code",
   "execution_count": 11,
   "id": "5cf0d7b0-b4db-4c46-8e9f-73b75bfaf8a9",
   "metadata": {},
   "outputs": [
    {
     "name": "stdout",
     "output_type": "stream",
     "text": [
      "About 10.78% of shots are converted.\n"
     ]
    }
   ],
   "source": [
    "conversion_pct = df_shots_fbref.goal.sum() / len(df_shots_fbref)\n",
    "print(f\"About {conversion_pct:.2%} of shots are converted.\")"
   ]
  },
  {
   "cell_type": "code",
   "execution_count": 12,
   "id": "947fc38a-b439-4892-abeb-80c34804dca3",
   "metadata": {
    "tags": []
   },
   "outputs": [
    {
     "name": "stderr",
     "output_type": "stream",
     "text": [
      "/tmp/ipykernel_211330/2098115748.py:37: UserWarning: set_ticklabels() should only be used with a fixed number of ticks, i.e. after set_ticks() or using a FixedLocator.\n",
      "  axd['right'].set_xticklabels([\"2017/18\", \"2018/19\", \"2019/20\", \"2020/21\", \"2021/22\"])\n"
     ]
    },
    {
     "data": {
      "image/png": "[encoded data removed]",
      "text/plain": [
       "<Figure size 850x350 with 3 Axes>"
      ]
     },
     "metadata": {},
     "output_type": "display_data"
    }
   ],
   "source": [
    "from matplotlib.ticker import PercentFormatter\n",
    "\n",
    "gs_kw = dict(width_ratios=[2, 1.5], height_ratios=[1, 1])\n",
    "fig, axd = plt.subplot_mosaic([['upper left', 'right'],\n",
    "                               ['lower left', 'right']],\n",
    "                              gridspec_kw=gs_kw, \n",
    "                              figsize=(8.5, 3.5))\n",
    "\n",
    "# xg dist\n",
    "binwidth = 0.05\n",
    "axd['upper left'].hist(df_shots_fbref.xG, bins=np.arange(0, 1 + binwidth, binwidth), density=False, rwidth=0.9, color=\"#bcd7df\", weights=np.ones(len(df_shots_fbref)) / len(df_shots_fbref))\n",
    "axd['upper left'].yaxis.set_major_formatter(PercentFormatter(1, decimals=0))\n",
    "axd['upper left'].set_xlabel(\"xG\")\n",
    "axd['upper left'].set_ylabel(\"Number of shots\")\n",
    "axd['upper left'].set_xlim((0, 1))\n",
    "axd['upper left'].set_ylim((0, .5))\n",
    "\n",
    "# shot volume\n",
    "axd['lower left'].hist(shots_per_season, bins=np.arange(0, 201, 10), density=False, rwidth=0.9, color=\"#bcd7df\", weights=np.ones(len(shots_per_season)) / len(shots_per_season))\n",
    "axd['lower left'].yaxis.set_major_formatter(PercentFormatter(1, decimals=0))\n",
    "axd['lower left'].set_xlabel(\"Shots per season\")\n",
    "axd['lower left'].set_ylabel(\"Number of players\")\n",
    "axd['lower left'].set_xlim((0, 200))\n",
    "axd['lower left'].set_ylim((0, .5))\n",
    "\n",
    "\n",
    "# players\n",
    "axd['right'].plot(shots_per_season.loc[\"Robert Lewandowski\"], '-o', lw=.5)\n",
    "axd['right'].plot(shots_per_season.loc[\"Cristiano Ronaldo\"], '-o', lw=.5)\n",
    "axd['right'].plot(shots_per_season.loc[\"Lionel Messi\"], '-o', lw=.5)\n",
    "axd['right'].plot(shots_per_season.loc[\"Kevin De Bruyne\"], '-o', lw=.5)\n",
    "axd['right'].plot(shots_per_season.loc[\"Luka Modrić\"], '-o', lw=.5)\n",
    "axd['right'].plot(shots_per_season.loc[\"Virgil van Dijk\"], '-o', lw=.5)\n",
    "axd['right'].plot(shots_per_season.loc[\"Raphaël Varane\"], '-o', lw=.5)\n",
    "axd['right'].grid(axis='y')\n",
    "\n",
    "axd['right'].set_xticklabels([\"2017/18\", \"2018/19\", \"2019/20\", \"2020/21\", \"2021/22\"])\n",
    "axd['right'].set_xlabel(\"Season\")\n",
    "axd['right'].set_ylabel(\"Number of shots\")\n",
    "\n",
    "sns.despine()\n",
    "plt.tight_layout()\n",
    "plt.savefig(OUTPUT_DIR / \"shots-xg-distribution.pdf\", transparent=True)\n"
   ]
  },
  {
   "cell_type": "markdown",
   "id": "75b2f4bb-26da-4b1a-a5ad-3279ba5c4adf",
   "metadata": {},
   "source": [
    "### Poor stability"
   ]
  },
  {
   "cell_type": "code",
   "execution_count": 13,
   "id": "f8c28ecc-2d0f-44ec-b42a-d82be8857ec8",
   "metadata": {
    "tags": []
   },
   "outputs": [
    {
     "data": {
      "text/html": [
       "<div>\n",
       "<style scoped>\n",
       "    .dataframe tbody tr th:only-of-type {\n",
       "        vertical-align: middle;\n",
       "    }\n",
       "\n",
       "    .dataframe tbody tr th {\n",
       "        vertical-align: top;\n",
       "    }\n",
       "\n",
       "    .dataframe thead th {\n",
       "        text-align: right;\n",
       "    }\n",
       "</style>\n",
       "<table border=\"1\" class=\"dataframe\">\n",
       "  <thead>\n",
       "    <tr style=\"text-align: right;\">\n",
       "      <th></th>\n",
       "      <th></th>\n",
       "      <th>GAX_prev</th>\n",
       "      <th>count_prev</th>\n",
       "      <th>GAX_curr</th>\n",
       "      <th>count_curr</th>\n",
       "    </tr>\n",
       "    <tr>\n",
       "      <th>team</th>\n",
       "      <th>player</th>\n",
       "      <th></th>\n",
       "      <th></th>\n",
       "      <th></th>\n",
       "      <th></th>\n",
       "    </tr>\n",
       "  </thead>\n",
       "  <tbody>\n",
       "    <tr>\n",
       "      <th rowspan=\"5\" valign=\"top\">Alavés</th>\n",
       "      <th>Burgui</th>\n",
       "      <td>0.020000</td>\n",
       "      <td>15</td>\n",
       "      <td>0.030000</td>\n",
       "      <td>8</td>\n",
       "    </tr>\n",
       "    <tr>\n",
       "      <th>Carlos Vigaray</th>\n",
       "      <td>-0.070000</td>\n",
       "      <td>4</td>\n",
       "      <td>-0.020000</td>\n",
       "      <td>1</td>\n",
       "    </tr>\n",
       "    <tr>\n",
       "      <th>Guillermo Maripán</th>\n",
       "      <td>-0.130000</td>\n",
       "      <td>4</td>\n",
       "      <td>-0.038000</td>\n",
       "      <td>15</td>\n",
       "    </tr>\n",
       "    <tr>\n",
       "      <th>Ibai Gómez</th>\n",
       "      <td>0.038868</td>\n",
       "      <td>53</td>\n",
       "      <td>0.010732</td>\n",
       "      <td>41</td>\n",
       "    </tr>\n",
       "    <tr>\n",
       "      <th>Ibai Gómez ()</th>\n",
       "      <td>0.210000</td>\n",
       "      <td>1</td>\n",
       "      <td>-0.790000</td>\n",
       "      <td>1</td>\n",
       "    </tr>\n",
       "  </tbody>\n",
       "</table>\n",
       "</div>"
      ],
      "text/plain": [
       "                          GAX_prev  count_prev  GAX_curr  count_curr\n",
       "team   player                                                       \n",
       "Alavés Burgui             0.020000          15  0.030000           8\n",
       "       Carlos Vigaray    -0.070000           4 -0.020000           1\n",
       "       Guillermo Maripán -0.130000           4 -0.038000          15\n",
       "       Ibai Gómez         0.038868          53  0.010732          41\n",
       "       Ibai Gómez ()      0.210000           1 -0.790000           1"
      ]
     },
     "execution_count": 13,
     "metadata": {},
     "output_type": "execute_result"
    }
   ],
   "source": [
    "df_shots_fbref['count'] = 1\n",
    "season_keys = ['1718', '1819', '1920', '2021', '2122']\n",
    "df_gax_corr = []\n",
    "for i in range(1, len(season_keys)):\n",
    "    prev_season = df_shots_fbref.xs(season_keys[i-1], level=\"season\").groupby([\"team\", \"player\"]).agg({'GAX': 'mean', 'count':'sum'})\n",
    "    curr_season = df_shots_fbref.xs(season_keys[i], level=\"season\").groupby([\"team\", \"player\"]).agg({'GAX': 'mean', 'count':'sum'})\n",
    "    join = pd.merge(prev_season, curr_season, how=\"inner\", suffixes=(\"_prev\", \"_curr\"), left_index=True, right_index=True)\n",
    "    df_gax_corr.append(join)\n",
    "df_gax_corr = pd.concat(df_gax_corr)\n",
    "df_gax_corr.head()"
   ]
  },
  {
   "cell_type": "code",
   "execution_count": 14,
   "id": "aea42343-f6cb-4705-bdc3-0a71084a8294",
   "metadata": {
    "tags": []
   },
   "outputs": [
    {
     "data": {
      "text/plain": [
       "-0.8298936686420142"
      ]
     },
     "execution_count": 14,
     "metadata": {},
     "output_type": "execute_result"
    }
   ],
   "source": [
    "from sklearn.metrics import r2_score\n",
    "\n",
    "min_shots = 50\n",
    "df = df_gax_corr[(df_gax_corr.count_prev > min_shots) & (df_gax_corr.count_curr > min_shots)]\n",
    "r2_score(df[\"GAX_prev\"], df[\"GAX_curr\"])"
   ]
  },
  {
   "cell_type": "code",
   "execution_count": 15,
   "id": "1341ecdb-a90b-4d8a-81e0-bcb333d3a58d",
   "metadata": {
    "tags": []
   },
   "outputs": [
    {
     "data": {
      "image/png": "[encoded data removed]",
      "text/plain": [
       "<Figure size 500x500 with 1 Axes>"
      ]
     },
     "metadata": {},
     "output_type": "display_data"
    }
   ],
   "source": [
    "g = sns.lmplot(\n",
    "    data=df_gax_corr[(df_gax_corr.count_prev > 50) & (df_gax_corr.count_curr > 50)], \n",
    "    x=\"GAX_prev\", \n",
    "    y=\"GAX_curr\", \n",
    "    scatter_kws={'alpha':0.1},\n",
    ")\n",
    "g.set_axis_labels(\"Previous season's GAX\", \"Current season's GAX\")\n",
    "plt.savefig(OUTPUT_DIR / \"gax-stability.pdf\", transparent=True)"
   ]
  },
  {
   "cell_type": "markdown",
   "id": "970ca75f-a968-41d1-b929-1b03b03f89ef",
   "metadata": {},
   "source": [
    "## H2: Including all shots when computing GAX is incorrect and obscures finishing ability.  "
   ]
  },
  {
   "cell_type": "markdown",
   "id": "eb38f74c-b08a-44bb-84cd-a47cc82c0903",
   "metadata": {
    "tags": []
   },
   "source": [
    "### Performance on specific shot types"
   ]
  },
  {
   "cell_type": "code",
   "execution_count": 16,
   "id": "d36a6249-6d92-46df-bb4f-a9c79a5c52b7",
   "metadata": {
    "tags": []
   },
   "outputs": [
    {
     "data": {
      "text/plain": [
       "body_part   long_distance\n",
       "Head        False            39004\n",
       "            True                10\n",
       "Left Foot   False            54888\n",
       "            True             16856\n",
       "Other       False              905\n",
       "            True                 1\n",
       "Right Foot  False            83573\n",
       "            True             29956\n",
       "dtype: int64"
      ]
     },
     "execution_count": 16,
     "metadata": {},
     "output_type": "execute_result"
    }
   ],
   "source": [
    "# Absolute counts of shots grouped by body part and distance\n",
    "df_shots_fbref.groupby([\"body_part\", \"long_distance\"]).size()"
   ]
  },
  {
   "cell_type": "code",
   "execution_count": 17,
   "id": "8e849757-97eb-49d6-87ba-ddba6be09c00",
   "metadata": {
    "tags": []
   },
   "outputs": [
    {
     "data": {
      "text/plain": [
       "body_part   long_distance\n",
       "Other       True             0.000004\n",
       "Head        True             0.000044\n",
       "Other       False            0.004019\n",
       "Left Foot   True             0.074851\n",
       "Right Foot  True             0.133024\n",
       "Head        False            0.173203\n",
       "Left Foot   False            0.243738\n",
       "Right Foot  False            0.371117\n",
       "dtype: float64"
      ]
     },
     "execution_count": 17,
     "metadata": {},
     "output_type": "execute_result"
    }
   ],
   "source": [
    "# Relative counts of shots grouped by body part and distance\n",
    "(df_shots_fbref.groupby([\"body_part\", \"long_distance\"]).size() / len(df_shots_fbref)).sort_values()"
   ]
  },
  {
   "cell_type": "code",
   "execution_count": 18,
   "id": "f59e1337-59f3-42be-958a-3ea9b9ce9ec3",
   "metadata": {
    "tags": []
   },
   "outputs": [
    {
     "data": {
      "text/plain": [
       "body_part   long_distance\n",
       "Head        False             6\n",
       "Left Foot   False            33\n",
       "            True             16\n",
       "Right Foot  False            69\n",
       "            True             49\n",
       "dtype: int64"
      ]
     },
     "execution_count": 18,
     "metadata": {},
     "output_type": "execute_result"
    }
   ],
   "source": [
    "# Absolute counts of shots grouped by body part and distance for a specific player\n",
    "player = \"Luka Modrić\"\n",
    "df_shots_fbref.xs(player, level='player').groupby([\"body_part\", \"long_distance\"]).size()"
   ]
  },
  {
   "cell_type": "code",
   "execution_count": 19,
   "id": "d9964e94-0af5-4a75-bf27-140b1e369a8e",
   "metadata": {
    "tags": []
   },
   "outputs": [
    {
     "data": {
      "text/plain": [
       "season  body_part \n",
       "1718    Head         -0.10\n",
       "        Left Foot    -0.48\n",
       "        Right Foot   -0.22\n",
       "1819    Head         -0.11\n",
       "        Left Foot     0.29\n",
       "        Right Foot    0.14\n",
       "1920    Left Foot     0.68\n",
       "        Right Foot    0.76\n",
       "2021    Head          0.90\n",
       "        Left Foot     1.43\n",
       "        Right Foot    0.36\n",
       "2122    Left Foot     0.14\n",
       "        Right Foot   -0.81\n",
       "Name: GAX, dtype: float64"
      ]
     },
     "execution_count": 19,
     "metadata": {},
     "output_type": "execute_result"
    }
   ],
   "source": [
    "# How much did a specific player outperform his xG when grouped by body part and distance\n",
    "df_shots_player = df_shots_fbref.xs(player, level='player')\n",
    "df_shots_player.groupby([\"season\", \"body_part\"]).GAX.sum()"
   ]
  },
  {
   "cell_type": "markdown",
   "id": "4e2358d2-0421-4a19-9697-2a4dc494f531",
   "metadata": {},
   "source": [
    "### Is Pogba good at long distance shots?\n",
    "\n",
    "Pogba is generally considered as an excellent long-distance shooter. Can we validate this using data? Therefore, we compare how many goals Pogba scored from his shots with how many goals an average player could realisitically have scored from these shots."
   ]
  },
  {
   "cell_type": "code",
   "execution_count": 20,
   "id": "22186a6d-5d87-4548-b3b3-455b6d4b1d7d",
   "metadata": {
    "tags": []
   },
   "outputs": [],
   "source": [
    "from poibin.poibin import PoiBin"
   ]
  },
  {
   "cell_type": "code",
   "execution_count": 21,
   "id": "fab1cfdd-a7dd-43b1-be48-40bd8fe741b2",
   "metadata": {
    "tags": []
   },
   "outputs": [],
   "source": [
    "# select shots by Pogba\n",
    "player = \"Paul Pogba\"\n",
    "df_shots_player = df_shots_fbref.xs(player, level='player')\n",
    "# remove set pieces\n",
    "df_shots_player = df_shots_player[~df_shots_player[\"set_piece\"]]"
   ]
  },
  {
   "cell_type": "code",
   "execution_count": 22,
   "id": "ef8a78dd-c2a8-46cb-8d5e-5acda36e45d0",
   "metadata": {
    "tags": []
   },
   "outputs": [
    {
     "name": "stdout",
     "output_type": "stream",
     "text": [
      "Seasons included: ['1718', '1819', '1920', '2021', '2122']\n",
      "Number of shots: 242\n",
      "Goals scored: 17\n",
      "Total xG: 20.85\n"
     ]
    }
   ],
   "source": [
    "print(f\"Seasons included: {df_shots_player.reset_index().season.unique().tolist()}\")\n",
    "print(f\"Number of shots: {len(df_shots_player)}\")\n",
    "print(f\"Goals scored: {df_shots_player.goal.sum()}\")\n",
    "print(f\"Total xG: {df_shots_player.xG.sum()}\")"
   ]
  },
  {
   "cell_type": "code",
   "execution_count": 23,
   "id": "fa2a71fd-3035-4d26-a767-f971d766092d",
   "metadata": {
    "tags": []
   },
   "outputs": [
    {
     "name": "stdout",
     "output_type": "stream",
     "text": [
      "n=242\n"
     ]
    },
    {
     "data": {
      "image/png": "[encoded data removed]",
      "text/plain": [
       "<Figure size 640x480 with 1 Axes>"
      ]
     },
     "metadata": {},
     "output_type": "display_data"
    }
   ],
   "source": [
    "# defining list of r values\n",
    "n=len(df_shots_player)\n",
    "print(f\"n={n}\")\n",
    "n = 40\n",
    "pb = PoiBin(df_shots_player.xG)\n",
    "r_values = list(range(n + 1))\n",
    "# list of pmf values\n",
    "dist = [pb.pmf(r) for r in r_values ]\n",
    "# plotting the graph \n",
    "barlist = plt.bar(r_values, dist, color=\"#bcd7df\")\n",
    "#arlist[df_shots_player.goal.sum()].set_color('gold')\n",
    "for i in range(0, np.argmax(np.cumsum(dist) >= 0.05)+1):\n",
    "    barlist[i].set_alpha(.5)\n",
    "for i in range(np.argmax(np.cumsum(dist) >= 0.95), n):\n",
    "    barlist[i].set_alpha(.5)\n",
    "plt.axvline(df_shots_player.goal.sum(), ls=\"--\", lw = 1, color='grey')\n",
    "plt.title(\"All shots\")\n",
    "plt.savefig(OUTPUT_DIR / \"pogba-overall.pdf\", transparent=True)\n",
    "plt.show()"
   ]
  },
  {
   "cell_type": "code",
   "execution_count": 24,
   "id": "edb4d727-01e3-4b0c-9cc1-22f20b673dbc",
   "metadata": {
    "tags": []
   },
   "outputs": [
    {
     "name": "stdout",
     "output_type": "stream",
     "text": [
      "n=82\n"
     ]
    },
    {
     "data": {
      "image/png": "[encoded data removed]",
      "text/plain": [
       "<Figure size 640x480 with 1 Axes>"
      ]
     },
     "metadata": {},
     "output_type": "display_data"
    }
   ],
   "source": [
    "# defining list of r values\n",
    "df = df_shots_player.loc[df_shots_player.long_distance]\n",
    "n=len(df)\n",
    "print(f\"n={n}\")\n",
    "n = 40\n",
    "pb = PoiBin(df.xG)\n",
    "r_values = list(range(n + 1))\n",
    "# list of pmf values\n",
    "dist = [pb.pmf(r) for r in r_values]\n",
    "# plotting the graph \n",
    "barlist = plt.bar(r_values, dist, color=\"#bcd7df\")\n",
    "#arlist[df_shots_player.goal.sum()].set_color('gold')\n",
    "for i in range(0, np.argmax(np.cumsum(dist) >= 0.05)+1):\n",
    "    barlist[i].set_alpha(.5)\n",
    "for i in range(np.argmax(np.cumsum(dist) >= 0.95), n):\n",
    "    barlist[i].set_alpha(.5)\n",
    "plt.axvline(df.goal.sum(), ls=\"--\", lw = 1, color='grey')\n",
    "plt.title(\"Long-distance shots\")\n",
    "plt.savefig(OUTPUT_DIR / \"pogba-longrange.pdf\", transparent=True)\n",
    "plt.show()"
   ]
  },
  {
   "cell_type": "code",
   "execution_count": 25,
   "id": "d80cbe12-ee9a-46a7-baf4-fd411c37cbf3",
   "metadata": {
    "tags": []
   },
   "outputs": [
    {
     "name": "stdout",
     "output_type": "stream",
     "text": [
      "season=('1718',) / n=29\n"
     ]
    },
    {
     "data": {
      "image/png": "[encoded data removed]",
      "text/plain": [
       "<Figure size 200x200 with 1 Axes>"
      ]
     },
     "metadata": {},
     "output_type": "display_data"
    },
    {
     "name": "stdout",
     "output_type": "stream",
     "text": [
      "season=('1819',) / n=33\n"
     ]
    },
    {
     "data": {
      "image/png": "[encoded data removed]",
      "text/plain": [
       "<Figure size 200x200 with 1 Axes>"
      ]
     },
     "metadata": {},
     "output_type": "display_data"
    },
    {
     "name": "stdout",
     "output_type": "stream",
     "text": [
      "season=('1920',) / n=6\n"
     ]
    },
    {
     "data": {
      "image/png": "[encoded data removed]",
      "text/plain": [
       "<Figure size 200x200 with 1 Axes>"
      ]
     },
     "metadata": {},
     "output_type": "display_data"
    },
    {
     "name": "stdout",
     "output_type": "stream",
     "text": [
      "season=('2021',) / n=8\n"
     ]
    },
    {
     "data": {
      "image/png": "[encoded data removed]",
      "text/plain": [
       "<Figure size 200x200 with 1 Axes>"
      ]
     },
     "metadata": {},
     "output_type": "display_data"
    },
    {
     "name": "stdout",
     "output_type": "stream",
     "text": [
      "season=('2122',) / n=6\n"
     ]
    },
    {
     "data": {
      "image/png": "[encoded data removed]",
      "text/plain": [
       "<Figure size 200x200 with 1 Axes>"
      ]
     },
     "metadata": {},
     "output_type": "display_data"
    }
   ],
   "source": [
    "# defining list of r values\n",
    "n=6\n",
    "for season, df in df_shots_player.loc[df_shots_player.long_distance].groupby([\"season\"]):\n",
    "    pb = PoiBin(df.xG)\n",
    "    #n = int(len(df) / 4)\n",
    "    print(f\"season={season} / n={len(df)}\")\n",
    "    r_values = list(range(n + 1))\n",
    "    # list of pmf values\n",
    "    dist = [pb.pmf(r) for r in r_values ]\n",
    "    # plotting the graph \n",
    "    plt.figure(figsize=(2,2))\n",
    "    barlist = plt.bar(r_values, dist, color=\"#bcd7df\")\n",
    "    #barlist[df.goal.sum()].set_color('gold')\n",
    "    for i in range(0, np.argmax(np.cumsum(dist) >= 0.05)+1):\n",
    "        barlist[i].set_alpha(.5)\n",
    "    for i in range(np.argmax(np.cumsum(dist) >= 0.95), n):\n",
    "        barlist[i].set_alpha(.5)\n",
    "    plt.axvline(df.goal.sum(), ls=\"--\", lw = 1, color='grey')\n",
    "    plt.title(f\"Long-distance shots {season[0]}\")\n",
    "    plt.savefig(OUTPUT_DIR / f\"pogba-longrange-{season}.pdf\", transparent=True)\n",
    "    plt.show()"
   ]
  },
  {
   "cell_type": "markdown",
   "id": "9b22c398-2fea-46c9-94fe-fd5df8175368",
   "metadata": {},
   "source": [
    "Indeed, when focusing on long-distance shots (25 - 35 yards from goal), Pogba statistically outperforms his cumulative xG. However, when looking at these figures season-by-season, we can no longer draw conclusions on overperformance due to the limited sample sizes. Ultimately, drawing conclusions on over- or underperformance in specific shot categories is only feasible for exceptionally high-volume shooters over an extended period of time. "
   ]
  },
  {
   "cell_type": "markdown",
   "id": "db725dcf-9525-434b-94a4-a19340de1de1",
   "metadata": {
    "tags": []
   },
   "source": [
    "### What is the effect of deflected shots on a player's GAX?\n",
    "\n",
    "Overall, few shots are deflected. Nevertheless, they can have a significant effect on the figure of individual players, even those with high shot volumes. As an example, we consider the shots taken by Riyad Mahrez during the 2017/18 – 2021/22 seasons and evaluate the effect of deflected shots on his performance."
   ]
  },
  {
   "cell_type": "code",
   "execution_count": 26,
   "id": "96235786-2f92-449e-a09b-e49ccf0ca84d",
   "metadata": {},
   "outputs": [
    {
     "name": "stdout",
     "output_type": "stream",
     "text": [
      "About 2.31% of shots are deflected.\n"
     ]
    }
   ],
   "source": [
    "# Number of deflected shots\n",
    "df_shots_fbref['deflected'] = df_shots_fbref.notes.astype(str).apply(lambda x: 'Deflected' in x)\n",
    "deflection_pct = df_shots_fbref['deflected'].mean()\n",
    "print(f\"About {deflection_pct:.2%} of shots are deflected.\")"
   ]
  },
  {
   "cell_type": "code",
   "execution_count": 27,
   "id": "939f02c5-f828-495a-8c54-01a29d7c493d",
   "metadata": {
    "tags": []
   },
   "outputs": [
    {
     "data": {
      "text/plain": [
       "player\n",
       "Cristiano Ronaldo    27\n",
       "Son Heung-min        19\n",
       "Alassane Pléa        19\n",
       "Riyad Mahrez         18\n",
       "Edin Džeko           18\n",
       "Wilfried Zaha        17\n",
       "Kevin De Bruyne      16\n",
       "Gonzalo Higuaín      16\n",
       "Lionel Messi         16\n",
       "Romelu Lukaku        16\n",
       "dtype: int64"
      ]
     },
     "execution_count": 27,
     "metadata": {},
     "output_type": "execute_result"
    }
   ],
   "source": [
    "# which players have a lot of deflected shots?\n",
    "df_shots_fbref.loc[df_shots_fbref.deflected].groupby('player').size().sort_values(ascending=False).head(n=10)"
   ]
  },
  {
   "cell_type": "code",
   "execution_count": 28,
   "id": "185b77b2-a66f-46d4-98b0-0991f418285a",
   "metadata": {
    "tags": []
   },
   "outputs": [],
   "source": [
    "# what is the effect of deflected shots on a players GAX?\n",
    "player = \"Riyad Mahrez\"\n",
    "df_shots_player = df_shots_fbref.xs(player, level='player')\n",
    "# remove set pieces\n",
    "df_shots_player = df_shots_player[~df_shots_player[\"set_piece\"]]"
   ]
  },
  {
   "cell_type": "code",
   "execution_count": 29,
   "id": "06bc6971-ff8b-4e7b-aec3-1906eb54046d",
   "metadata": {
    "tags": []
   },
   "outputs": [
    {
     "name": "stdout",
     "output_type": "stream",
     "text": [
      "Seasons included: ['1718', '1819', '1920', '2021', '2122']\n",
      "Number of shots: 289\n",
      "Pct of shots deflected: 0.06\n",
      "Goals scored: 42\n",
      "Total xG: 27.39\n"
     ]
    }
   ],
   "source": [
    "print(f\"Seasons included: {df_shots_player.reset_index().season.unique().tolist()}\")\n",
    "print(f\"Number of shots: {len(df_shots_player)}\")\n",
    "print(f\"Pct of shots deflected: {df_shots_player.deflected.sum() / len(df_shots_player):.2f}\")\n",
    "print(f\"Goals scored: {df_shots_player.goal.sum()}\")\n",
    "print(f\"Total xG: {df_shots_player.xG.sum()}\")"
   ]
  },
  {
   "cell_type": "code",
   "execution_count": 31,
   "id": "2ce34cac-ad7a-476a-aac5-5fad95722c2e",
   "metadata": {
    "tags": []
   },
   "outputs": [
    {
     "name": "stdout",
     "output_type": "stream",
     "text": [
      "goals=42, xg=27.39, GAX=14.61\n"
     ]
    },
    {
     "data": {
      "image/png": "[encoded data removed]",
      "text/plain": [
       "<Figure size 600x200 with 1 Axes>"
      ]
     },
     "metadata": {},
     "output_type": "display_data"
    },
    {
     "name": "stdout",
     "output_type": "stream",
     "text": [
      "goals=35, xg=25.97, GAX=9.030000000000001\n"
     ]
    },
    {
     "data": {
      "image/png": "[encoded data removed]",
      "text/plain": [
       "<Figure size 600x200 with 1 Axes>"
      ]
     },
     "metadata": {},
     "output_type": "display_data"
    }
   ],
   "source": [
    "n=200\n",
    "for name, df in zip([\"with-deflections\", \"no-deflictions\"], [df_shots_player, df_shots_player.loc[~df_shots_player.deflected]]):\n",
    "    pb = PoiBin(df.xG)\n",
    "    n = int(len(df) / 4)\n",
    "    n = 50\n",
    "    print(f\"goals={df.goal.sum()}, xg={df.xG.sum()}, GAX={df.goal.sum() - df.xG.sum()}\")\n",
    "    r_values = list(range(n + 1))\n",
    "    # list of pmf values\n",
    "    dist = [pb.pmf(r) for r in r_values ]\n",
    "    # plotting the graph \n",
    "    plt.figure(figsize=(6,2))\n",
    "    barlist = plt.bar(r_values, dist, color=\"#bcd7df\")\n",
    "    #barlist[df.goal.sum()].set_color('gold')\n",
    "    for i in range(0, np.argmax(np.cumsum(dist) >= 0.05)+1):\n",
    "        barlist[i].set_alpha(.5)\n",
    "    for i in range(np.argmax(np.cumsum(dist) >= 0.95), n):\n",
    "        barlist[i].set_alpha(.5)\n",
    "    plt.axvline(df.goal.sum(), ls=\"--\", lw = 1, color='grey')\n",
    "    plt.title(name)\n",
    "    plt.savefig(OUTPUT_DIR / f\"mahrez-{name}.pdf\", transparent=True)\n",
    "    plt.show()"
   ]
  },
  {
   "cell_type": "code",
   "execution_count": null,
   "id": "b78e1577-33b5-4260-bc78-6ad55384d49c",
   "metadata": {},
   "outputs": [],
   "source": []
  }
 ],
 "metadata": {
  "kernelspec": {
   "display_name": "/home/pieterr/Jupiter/Projects/soccer-xmskill",
   "language": "python",
   "name": "soccer-xmskill"
  },
  "language_info": {
   "codemirror_mode": {
    "name": "ipython",
    "version": 3
   },
   "file_extension": ".py",
   "mimetype": "text/x-python",
   "name": "python",
   "nbconvert_exporter": "python",
   "pygments_lexer": "ipython3",
   "version": "3.11.1"
  }
 },
 "nbformat": 4,
 "nbformat_minor": 5
}
